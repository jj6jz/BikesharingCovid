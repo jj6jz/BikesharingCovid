{
 "cells": [
  {
   "cell_type": "code",
   "execution_count": 1,
   "metadata": {},
   "outputs": [],
   "source": [
    "import pandas as pd\n",
    "import numpy as np\n",
    "import seaborn as sns\n",
    "import matplotlib.pyplot as plt\n",
    "import datetime as dt"
   ]
  },
  {
   "cell_type": "code",
   "execution_count": 16,
   "metadata": {},
   "outputs": [
    {
     "name": "stderr",
     "output_type": "stream",
     "text": [
      "/opt/anaconda3/lib/python3.8/site-packages/IPython/core/interactiveshell.py:3146: DtypeWarning: Columns (11,19) have mixed types.Specify dtype option on import or set low_memory=False.\n",
      "  has_raised = await self.run_ast_nodes(code_ast.body, cell_name,\n"
     ]
    }
   ],
   "source": [
    "#df = pd.read_csv('/Users/tiggy/Documents/cli/CS 5010/Project/va_final3.csv',low_memory=False)\n",
    "df = pd.read_csv('/Users/jennyjang/Desktop/CS Project/Virginia_records.csv')"
   ]
  },
  {
   "cell_type": "code",
   "execution_count": 5,
   "metadata": {
    "scrolled": true
   },
   "outputs": [],
   "source": [
    "assert len(df['id'])==590687,\"Error reading in all records\""
   ]
  },
  {
   "cell_type": "markdown",
   "metadata": {},
   "source": [
    "# Month-to-Month Visualization\n",
    "\n",
    "This portion is to analyze the trend change in bike-sharing."
   ]
  },
  {
   "cell_type": "markdown",
   "metadata": {},
   "source": [
    "Define date-time aggregates in terms of start time for trip"
   ]
  },
  {
   "cell_type": "code",
   "execution_count": 4,
   "metadata": {},
   "outputs": [],
   "source": [
    "df['x']=pd.to_datetime(df['started_at'])\n",
    "df['month']=df['x'].dt.month\n",
    "df['year']=df['x'].dt.year\n",
    "df['smy'] = df['x'].dt.strftime('%Y%m')  #start month and year\n",
    "df['month']=df['x'].dt.month\n",
    "df['year']=df['x'].dt.year\n",
    "df['day']=df['x'].dt.day\n",
    "df['smyd'] = df['x'].dt.strftime('%D')  #start month, year and day\n",
    "df['dow']=df['x'].dt.dayofweek  #day of week\n",
    "df['hour']=df['x'].dt.hour  #hour of day\n",
    "df['smydh']=df['smyd'].astype(str)+'_'+df['hour'].astype(str)  #start month, year, day, hour"
   ]
  },
  {
   "cell_type": "markdown",
   "metadata": {},
   "source": [
    "Assert statements to test if date-time aggregates have correct counts"
   ]
  },
  {
   "cell_type": "code",
   "execution_count": 7,
   "metadata": {
    "scrolled": false
   },
   "outputs": [],
   "source": [
    "assert (len(pd.unique(df['day']))>=28 and len(pd.unique(df['day']))<=31),\"Error in day count\"\n",
    "assert (len(pd.unique(df['dow']))==7),\"Error in day of week count\"\n",
    "assert (len(pd.unique(df['hour']))==24) ,\"Error in hour count\"\n",
    "assert (len(pd.unique(df['month']))==12),  \"Error in month count\"\n",
    "assert (len(pd.unique(df['year']))==3),  \"Error in month count\""
   ]
  },
  {
   "cell_type": "markdown",
   "metadata": {},
   "source": [
    "Monthly datasets will reduce data processing and help us focus on the key months"
   ]
  },
  {
   "cell_type": "code",
   "execution_count": 20,
   "metadata": {},
   "outputs": [],
   "source": [
    "dfjune=df[(df['month'] == 6)]\n",
    "dffeb=df[(df['month'] == 2)]\n",
    "dfmarch=df[(df['month'] == 3)]\n",
    "dfmay=df[(df['month'] == 5)]\n",
    "dfaug=df[(df['month'] == 8)]\n",
    "dfsep=df[(df['month'] == 9)]\n",
    "dfoct=df[(df['month'] == 10)]\n",
    "dfdec=df[(df['month'] == 12)]"
   ]
  },
  {
   "cell_type": "markdown",
   "metadata": {},
   "source": [
    "Assert statements to assure daily COVID data are mapped to month/day/year only"
   ]
  },
  {
   "cell_type": "code",
   "execution_count": 21,
   "metadata": {},
   "outputs": [],
   "source": [
    "assert len(pd.unique(dfjune['Deaths']))<=31, \"Error merging daily COVID death data\"\n",
    "assert len(pd.unique(dfaug['Hospitalizations']))<=32, \"Error merging daily COVID hospitalization data\""
   ]
  },
  {
   "cell_type": "markdown",
   "metadata": {},
   "source": [
    "Number of trips groupby vars"
   ]
  },
  {
   "cell_type": "code",
   "execution_count": 22,
   "metadata": {},
   "outputs": [],
   "source": [
    "df['trips_y']=df.groupby('year').id.transform('count')\n",
    "df['trips_my'] = df.groupby('smy').id.transform('count')\n",
    "df['trips_m'] = df.groupby('month').id.transform('count')\n",
    "df['trips_daily'] = df.groupby('smyd').id.transform('count')\n",
    "df['trips_hourly'] = df.groupby('smydh').id.transform('count')\n",
    "# citation: https://cmdlinetips.com/2019/10/how-to-add-group-level-summary-statistic-as-a-new-column-in-pandas/"
   ]
  },
  {
   "cell_type": "markdown",
   "metadata": {},
   "source": [
    "Test if bar plots are plotting the correct aggregates"
   ]
  },
  {
   "cell_type": "code",
   "execution_count": 23,
   "metadata": {},
   "outputs": [
    {
     "data": {
      "text/plain": [
       "Text(0, 0.5, 'Trips')"
      ]
     },
     "execution_count": 23,
     "metadata": {},
     "output_type": "execute_result"
    },
    {
     "data": {
      "image/png": "[encoded data removed]",
      "text/plain": [
       "<Figure size 432x288 with 1 Axes>"
      ]
     },
     "metadata": {
      "needs_background": "light"
     },
     "output_type": "display_data"
    }
   ],
   "source": [
    "#validate that we are plotting the right number of observations\n",
    "ax = sns.barplot(x=\"year\", y=\"trips_y\", data=df)\n",
    "ax.set_title('Trip Count by Month')\n",
    "ax.set_xlabel('Locale')\n",
    "ax.set_ylabel('Trips')"
   ]
  },
  {
   "cell_type": "code",
   "execution_count": 24,
   "metadata": {},
   "outputs": [
    {
     "data": {
      "text/plain": [
       "2019    330144\n",
       "2020    230536\n",
       "2021     30007\n",
       "Name: year, dtype: int64"
      ]
     },
     "execution_count": 24,
     "metadata": {},
     "output_type": "execute_result"
    }
   ],
   "source": [
    "df.year.value_counts()  #The number of trips per year match the chart!"
   ]
  },
  {
   "cell_type": "markdown",
   "metadata": {},
   "source": [
    "Visualization: Time series of trends in COVID in VA and year to year bikesharing"
   ]
  },
  {
   "cell_type": "code",
   "execution_count": 25,
   "metadata": {
    "scrolled": true
   },
   "outputs": [
    {
     "data": {
      "text/plain": [
       "Text(0.5, 1.0, 'Cum. Deaths and Hospitalizations in VA')"
      ]
     },
     "execution_count": 25,
     "metadata": {},
     "output_type": "execute_result"
    },
    {
     "data": {
      "image/png": "[encoded data removed]",
      "text/plain": [
       "<Figure size 432x288 with 1 Axes>"
      ]
     },
     "metadata": {
      "needs_background": "light"
     },
     "output_type": "display_data"
    }
   ],
   "source": [
    "ts=df.set_index('x')\n",
    "lines = ts['Deaths'].plot.line()\n",
    "lines = ts['Hospitalizations'].plot.line()\n",
    "plt.legend()\n",
    "plt.xlabel(\"Date\")\n",
    "plt.ylabel(\"Counts\")\n",
    "plt.title(\"Cum. Deaths and Hospitalizations in VA\")"
   ]
  },
  {
   "cell_type": "code",
   "execution_count": 34,
   "metadata": {},
   "outputs": [
    {
     "data": {
      "text/plain": [
       "Text(0, 0.5, 'Trips')"
      ]
     },
     "execution_count": 34,
     "metadata": {},
     "output_type": "execute_result"
    },
    {
     "data": {
      "image/png": "[encoded data removed]",
      "text/plain": [
       "<Figure size 432x288 with 1 Axes>"
      ]
     },
     "metadata": {
      "needs_background": "light"
     },
     "output_type": "display_data"
    }
   ],
   "source": [
    "ax = sns.barplot(x=\"month\", y=\"trips_my\", hue='year',data=df)\n",
    "ax.set_title('Trip Count by Month')\n",
    "ax.set_xlabel('Month')\n",
    "ax.set_ylabel('Trips')"
   ]
  },
  {
   "cell_type": "markdown",
   "metadata": {},
   "source": [
    "Quarterly time of day and day of week charts suggest more leisure cycling along wit reduced commuter cycling."
   ]
  },
  {
   "cell_type": "code",
   "execution_count": 33,
   "metadata": {},
   "outputs": [
    {
     "data": {
      "image/png": "[encoded data removed]",
      "text/plain": [
       "<Figure size 432x288 with 1 Axes>"
      ]
     },
     "metadata": {
      "needs_background": "light"
     },
     "output_type": "display_data"
    }
   ],
   "source": [
    "ax1=sns.barplot(x=\"hour\", y=\"trips_hourly\",hue='year',data=dfmarch, ci=None)\n",
    "ax1.set_title('March:  Trip Count by Hour of Day')\n",
    "ax1.set_xlabel('Hour of Day')\n",
    "ax1.set_ylabel('Trips')\n",
    "ax1.legend(loc='upper left')\n",
    "#Adjust to include only COVID months in 2020 ; exclude Jan; redo \n",
    "ax1.tick_params(left = True, right = False , labelleft = True ,\n",
    "                labelbottom = True, bottom = False)"
   ]
  },
  {
   "cell_type": "markdown",
   "metadata": {},
   "source": [
    "Time of day analysis"
   ]
  },
  {
   "cell_type": "code",
   "execution_count": 27,
   "metadata": {},
   "outputs": [
    {
     "data": {
      "image/png": "[encoded data removed]",
      "text/plain": [
       "<Figure size 432x288 with 1 Axes>"
      ]
     },
     "metadata": {
      "needs_background": "light"
     },
     "output_type": "display_data"
    }
   ],
   "source": [
    "ax2=sns.barplot(x=\"hour\", y=\"trips_hourly\",hue='year',data=dfjune, ci=None)\n",
    "ax2.set_title('June:  Trip Count by Hour of Day')\n",
    "ax2.set_xlabel('Hour of Day')\n",
    "ax2.set_ylabel('Trips')\n",
    "ax2.legend(loc='upper left')\n",
    "ax2.tick_params(left = True, right = False , labelleft = True ,\n",
    "                labelbottom = True, bottom = False)"
   ]
  },
  {
   "cell_type": "code",
   "execution_count": 28,
   "metadata": {},
   "outputs": [
    {
     "data": {
      "image/png": "[encoded data removed]",
      "text/plain": [
       "<Figure size 432x288 with 1 Axes>"
      ]
     },
     "metadata": {
      "needs_background": "light"
     },
     "output_type": "display_data"
    }
   ],
   "source": [
    "ax3=sns.barplot(x=\"hour\", y=\"trips_hourly\",hue='year',data=dfsep, ci=None)\n",
    "ax3.set_title('September:  Trip Count by Hour of Day')\n",
    "ax3.set_xlabel('Hour of Day')\n",
    "ax3.set_ylabel('Trips')\n",
    "ax3.legend(loc='upper left')\n",
    "ax3.tick_params(left = True, right = False , labelleft = True ,\n",
    "                labelbottom = True, bottom = False)"
   ]
  },
  {
   "cell_type": "code",
   "execution_count": 29,
   "metadata": {},
   "outputs": [
    {
     "data": {
      "image/png": "[encoded data removed]",
      "text/plain": [
       "<Figure size 432x288 with 1 Axes>"
      ]
     },
     "metadata": {
      "needs_background": "light"
     },
     "output_type": "display_data"
    }
   ],
   "source": [
    "ax4=sns.barplot(x=\"hour\", y=\"trips_hourly\",hue='year',data=dfdec, ci=None)\n",
    "ax4.set_title('December:  Trip Count by Hour of Day')\n",
    "ax4.set_xlabel('Hour of Day')\n",
    "ax4.set_ylabel('Trips')\n",
    "ax4.legend(loc='upper left')\n",
    "ax4.tick_params(left = True, right = False , labelleft = True ,\n",
    "                labelbottom = True, bottom = False)"
   ]
  },
  {
   "cell_type": "code",
   "execution_count": 30,
   "metadata": {},
   "outputs": [
    {
     "data": {
      "image/png": "[encoded data removed]",
      "text/plain": [
       "<Figure size 432x288 with 1 Axes>"
      ]
     },
     "metadata": {
      "needs_background": "light"
     },
     "output_type": "display_data"
    }
   ],
   "source": [
    "ax0=sns.barplot(x=\"dow\", y=\"trips_daily\", hue='year',data=dffeb , ci=None)\n",
    "ax0.set_title('February:  Trip Count by Day of Week')\n",
    "ax0.set_xlabel('Day of Week')\n",
    "ax0.set_ylabel('Trips')\n",
    "ax0.legend(loc='upper right')\n",
    "#Adjust to include only COVID months in 2020 ; exclude Jan; redo \n",
    "ax0.tick_params(left = True, right = False , labelleft = True ,\n",
    "                labelbottom = True, bottom = False)"
   ]
  },
  {
   "cell_type": "code",
   "execution_count": 31,
   "metadata": {},
   "outputs": [
    {
     "data": {
      "image/png": "[encoded data removed]",
      "text/plain": [
       "<Figure size 432x288 with 1 Axes>"
      ]
     },
     "metadata": {
      "needs_background": "light"
     },
     "output_type": "display_data"
    }
   ],
   "source": [
    "ax1=sns.barplot(x=\"year\", y=\"trips_daily\", hue='dow',data=dfmarch, ci=None)\n",
    "ax1.set_title('March:  Trip Count by Day of Week')\n",
    "ax1.set_xlabel('Year')\n",
    "ax1.set_ylabel('Trips')\n",
    "ax1.legend(loc='lower left')\n",
    "#Adjust to include only COVID months in 2020 ; exclude Jan; redo \n",
    "ax1.tick_params(left = True, right = False , labelleft = True ,\n",
    "                labelbottom = True, bottom = False)"
   ]
  },
  {
   "cell_type": "code",
   "execution_count": 25,
   "metadata": {},
   "outputs": [
    {
     "data": {
      "image/png": "[encoded data removed]",
      "text/plain": [
       "<Figure size 432x288 with 1 Axes>"
      ]
     },
     "metadata": {
      "needs_background": "light"
     },
     "output_type": "display_data"
    }
   ],
   "source": [
    "ax2=sns.barplot(x=\"year\", y=\"trips_daily\", hue='dow',data=dfjune,ci=None)\n",
    "ax2.set_title('June: Trip Count by Day of Week')\n",
    "ax2.set_xlabel('Day of Week')\n",
    "ax2.set_ylabel('Trips')\n",
    "ax2.legend(loc='upper left')\n",
    "#Adjust to include only COVID months in 2020 ; exclude Jan; redo \n",
    "ax2.tick_params(left = True, right = False , labelleft = True ,\n",
    "                labelbottom = True, bottom = False)"
   ]
  },
  {
   "cell_type": "markdown",
   "metadata": {},
   "source": [
    "# Duration Change Analysis\n",
    "\n",
    "This portion is to analyse the change in duration pre-covid vs. post-covid.\n",
    "\n",
    "First starting with creating a new variable 'Pandemic' that splits the record to pre-covid and post-covid:"
   ]
  },
  {
   "cell_type": "code",
   "execution_count": 21,
   "metadata": {},
   "outputs": [
    {
     "data": {
      "text/html": [
       "<div>\n",
       "<style scoped>\n",
       "    .dataframe tbody tr th:only-of-type {\n",
       "        vertical-align: middle;\n",
       "    }\n",
       "\n",
       "    .dataframe tbody tr th {\n",
       "        vertical-align: top;\n",
       "    }\n",
       "\n",
       "    .dataframe thead th {\n",
       "        text-align: right;\n",
       "    }\n",
       "</style>\n",
       "<table border=\"1\" class=\"dataframe\">\n",
       "  <thead>\n",
       "    <tr style=\"text-align: right;\">\n",
       "      <th></th>\n",
       "      <th>Unnamed: 0</th>\n",
       "      <th>Duration</th>\n",
       "      <th>started_at</th>\n",
       "      <th>ended_at</th>\n",
       "      <th>start_station_id</th>\n",
       "      <th>start_station_name</th>\n",
       "      <th>end_station_id</th>\n",
       "      <th>end_station_name</th>\n",
       "      <th>ride_id</th>\n",
       "      <th>member_casual</th>\n",
       "      <th>...</th>\n",
       "      <th>state</th>\n",
       "      <th>date</th>\n",
       "      <th>Report Date</th>\n",
       "      <th>Total Cases</th>\n",
       "      <th>Hospitalizations</th>\n",
       "      <th>Deaths</th>\n",
       "      <th>new_duration</th>\n",
       "      <th>new_duration(sec)</th>\n",
       "      <th>new_duration(min)</th>\n",
       "      <th>Pandemic</th>\n",
       "    </tr>\n",
       "  </thead>\n",
       "  <tbody>\n",
       "    <tr>\n",
       "      <th>576650</th>\n",
       "      <td>5581468</td>\n",
       "      <td>584.0</td>\n",
       "      <td>2019-02-01 17:32:06</td>\n",
       "      <td>2019-02-01 17:41:51</td>\n",
       "      <td>31060.0</td>\n",
       "      <td>S Arlington Mill Dr &amp; Campbell Ave</td>\n",
       "      <td>31056.0</td>\n",
       "      <td>S Troy St &amp; 26th St S</td>\n",
       "      <td>W23388</td>\n",
       "      <td>member</td>\n",
       "      <td>...</td>\n",
       "      <td>Virginia</td>\n",
       "      <td>2019-02-01 00:00:00</td>\n",
       "      <td>NaN</td>\n",
       "      <td>0.0</td>\n",
       "      <td>0.0</td>\n",
       "      <td>0.0</td>\n",
       "      <td>0 days 00:09:45</td>\n",
       "      <td>585.0</td>\n",
       "      <td>9.75</td>\n",
       "      <td>Pre-COVID</td>\n",
       "    </tr>\n",
       "    <tr>\n",
       "      <th>576618</th>\n",
       "      <td>5581227</td>\n",
       "      <td>331.0</td>\n",
       "      <td>2019-02-01 16:43:04</td>\n",
       "      <td>2019-02-01 16:48:35</td>\n",
       "      <td>31022.0</td>\n",
       "      <td>Clarendon Metro / Wilson Blvd &amp; N Highland St</td>\n",
       "      <td>31094.0</td>\n",
       "      <td>Lee Hwy &amp; N Kirkwood Rd</td>\n",
       "      <td>W20634</td>\n",
       "      <td>member</td>\n",
       "      <td>...</td>\n",
       "      <td>Virginia</td>\n",
       "      <td>2019-02-01 00:00:00</td>\n",
       "      <td>NaN</td>\n",
       "      <td>0.0</td>\n",
       "      <td>0.0</td>\n",
       "      <td>0.0</td>\n",
       "      <td>0 days 00:05:31</td>\n",
       "      <td>331.0</td>\n",
       "      <td>5.52</td>\n",
       "      <td>Pre-COVID</td>\n",
       "    </tr>\n",
       "    <tr>\n",
       "      <th>576620</th>\n",
       "      <td>5581246</td>\n",
       "      <td>774.0</td>\n",
       "      <td>2019-02-01 16:50:40</td>\n",
       "      <td>2019-02-01 17:03:35</td>\n",
       "      <td>31023.0</td>\n",
       "      <td>Fairfax Dr &amp; Wilson Blvd</td>\n",
       "      <td>31069.0</td>\n",
       "      <td>Pershing &amp; N George Mason Dr</td>\n",
       "      <td>W24107</td>\n",
       "      <td>casual</td>\n",
       "      <td>...</td>\n",
       "      <td>Virginia</td>\n",
       "      <td>2019-02-01 00:00:00</td>\n",
       "      <td>NaN</td>\n",
       "      <td>0.0</td>\n",
       "      <td>0.0</td>\n",
       "      <td>0.0</td>\n",
       "      <td>0 days 00:12:55</td>\n",
       "      <td>775.0</td>\n",
       "      <td>12.92</td>\n",
       "      <td>Pre-COVID</td>\n",
       "    </tr>\n",
       "    <tr>\n",
       "      <th>576621</th>\n",
       "      <td>5581248</td>\n",
       "      <td>129.0</td>\n",
       "      <td>2019-02-01 16:50:47</td>\n",
       "      <td>2019-02-01 16:52:56</td>\n",
       "      <td>31003.0</td>\n",
       "      <td>Crystal Dr &amp; 15th St S</td>\n",
       "      <td>31007.0</td>\n",
       "      <td>Crystal City Metro / 18th &amp; Bell St</td>\n",
       "      <td>W20898</td>\n",
       "      <td>member</td>\n",
       "      <td>...</td>\n",
       "      <td>Virginia</td>\n",
       "      <td>2019-02-01 00:00:00</td>\n",
       "      <td>NaN</td>\n",
       "      <td>0.0</td>\n",
       "      <td>0.0</td>\n",
       "      <td>0.0</td>\n",
       "      <td>0 days 00:02:09</td>\n",
       "      <td>129.0</td>\n",
       "      <td>2.15</td>\n",
       "      <td>Pre-COVID</td>\n",
       "    </tr>\n",
       "    <tr>\n",
       "      <th>576622</th>\n",
       "      <td>5581249</td>\n",
       "      <td>919.0</td>\n",
       "      <td>2019-02-01 16:50:52</td>\n",
       "      <td>2019-02-01 17:06:12</td>\n",
       "      <td>32214.0</td>\n",
       "      <td>Reston Town Center Transit Station</td>\n",
       "      <td>32215.0</td>\n",
       "      <td>Wiehle Ave &amp; Reston Station Blvd</td>\n",
       "      <td>W21293</td>\n",
       "      <td>member</td>\n",
       "      <td>...</td>\n",
       "      <td>Virginia</td>\n",
       "      <td>2019-02-01 00:00:00</td>\n",
       "      <td>NaN</td>\n",
       "      <td>0.0</td>\n",
       "      <td>0.0</td>\n",
       "      <td>0.0</td>\n",
       "      <td>0 days 00:15:20</td>\n",
       "      <td>920.0</td>\n",
       "      <td>15.33</td>\n",
       "      <td>Pre-COVID</td>\n",
       "    </tr>\n",
       "    <tr>\n",
       "      <th>...</th>\n",
       "      <td>...</td>\n",
       "      <td>...</td>\n",
       "      <td>...</td>\n",
       "      <td>...</td>\n",
       "      <td>...</td>\n",
       "      <td>...</td>\n",
       "      <td>...</td>\n",
       "      <td>...</td>\n",
       "      <td>...</td>\n",
       "      <td>...</td>\n",
       "      <td>...</td>\n",
       "      <td>...</td>\n",
       "      <td>...</td>\n",
       "      <td>...</td>\n",
       "      <td>...</td>\n",
       "      <td>...</td>\n",
       "      <td>...</td>\n",
       "      <td>...</td>\n",
       "      <td>...</td>\n",
       "      <td>...</td>\n",
       "      <td>...</td>\n",
       "    </tr>\n",
       "    <tr>\n",
       "      <th>514259</th>\n",
       "      <td>5024028</td>\n",
       "      <td>NaN</td>\n",
       "      <td>2021-03-31 18:37:01</td>\n",
       "      <td>2021-03-31 18:42:34</td>\n",
       "      <td>31013.0</td>\n",
       "      <td>Eads St &amp; 22nd St S</td>\n",
       "      <td>31005.0</td>\n",
       "      <td>Pentagon City Metro / 12th St &amp; S Hayes St</td>\n",
       "      <td>512541136C283728</td>\n",
       "      <td>member</td>\n",
       "      <td>...</td>\n",
       "      <td>Virginia</td>\n",
       "      <td>2021-03-31 00:00:00</td>\n",
       "      <td>2021-03-31 00:00:00</td>\n",
       "      <td>618976.0</td>\n",
       "      <td>26455.0</td>\n",
       "      <td>10252.0</td>\n",
       "      <td>0 days 00:05:33</td>\n",
       "      <td>333.0</td>\n",
       "      <td>5.55</td>\n",
       "      <td>Post-COVID</td>\n",
       "    </tr>\n",
       "    <tr>\n",
       "      <th>508523</th>\n",
       "      <td>4974058</td>\n",
       "      <td>NaN</td>\n",
       "      <td>2021-03-31 19:34:13</td>\n",
       "      <td>2021-03-31 19:53:22</td>\n",
       "      <td>31039.0</td>\n",
       "      <td>Wilson Blvd &amp; N Quincy St</td>\n",
       "      <td>31039.0</td>\n",
       "      <td>Wilson Blvd &amp; N Quincy St</td>\n",
       "      <td>753E80AC1156E4B1</td>\n",
       "      <td>member</td>\n",
       "      <td>...</td>\n",
       "      <td>Virginia</td>\n",
       "      <td>2021-03-31 00:00:00</td>\n",
       "      <td>2021-03-31 00:00:00</td>\n",
       "      <td>618976.0</td>\n",
       "      <td>26455.0</td>\n",
       "      <td>10252.0</td>\n",
       "      <td>0 days 00:19:09</td>\n",
       "      <td>1149.0</td>\n",
       "      <td>19.15</td>\n",
       "      <td>Post-COVID</td>\n",
       "    </tr>\n",
       "    <tr>\n",
       "      <th>512657</th>\n",
       "      <td>5012534</td>\n",
       "      <td>NaN</td>\n",
       "      <td>2021-03-31 13:20:49</td>\n",
       "      <td>2021-03-31 13:34:40</td>\n",
       "      <td>31014.0</td>\n",
       "      <td>Lynn St &amp; 19th St North</td>\n",
       "      <td>31326.0</td>\n",
       "      <td>Hardy Rec Center</td>\n",
       "      <td>1251F62F7A36772F</td>\n",
       "      <td>member</td>\n",
       "      <td>...</td>\n",
       "      <td>Virginia</td>\n",
       "      <td>2021-03-31 00:00:00</td>\n",
       "      <td>2021-03-31 00:00:00</td>\n",
       "      <td>618976.0</td>\n",
       "      <td>26455.0</td>\n",
       "      <td>10252.0</td>\n",
       "      <td>0 days 00:13:51</td>\n",
       "      <td>831.0</td>\n",
       "      <td>13.85</td>\n",
       "      <td>Post-COVID</td>\n",
       "    </tr>\n",
       "    <tr>\n",
       "      <th>514308</th>\n",
       "      <td>5024665</td>\n",
       "      <td>NaN</td>\n",
       "      <td>2021-03-31 09:28:09</td>\n",
       "      <td>2021-03-31 09:34:50</td>\n",
       "      <td>31944.0</td>\n",
       "      <td>S Clark St &amp; 33rd St</td>\n",
       "      <td>31011.0</td>\n",
       "      <td>Crystal Dr &amp; 23rd St S</td>\n",
       "      <td>3C4584F59B1D768D</td>\n",
       "      <td>casual</td>\n",
       "      <td>...</td>\n",
       "      <td>Virginia</td>\n",
       "      <td>2021-03-31 00:00:00</td>\n",
       "      <td>2021-03-31 00:00:00</td>\n",
       "      <td>618976.0</td>\n",
       "      <td>26455.0</td>\n",
       "      <td>10252.0</td>\n",
       "      <td>0 days 00:06:41</td>\n",
       "      <td>401.0</td>\n",
       "      <td>6.68</td>\n",
       "      <td>Post-COVID</td>\n",
       "    </tr>\n",
       "    <tr>\n",
       "      <th>509817</th>\n",
       "      <td>4989065</td>\n",
       "      <td>NaN</td>\n",
       "      <td>2021-03-31 21:46:53</td>\n",
       "      <td>2021-03-31 21:54:33</td>\n",
       "      <td>31020.0</td>\n",
       "      <td>Wilson Blvd &amp; N Franklin Rd</td>\n",
       "      <td>31014.0</td>\n",
       "      <td>Lynn St &amp; 19th St North</td>\n",
       "      <td>8A22F17FDB3D763A</td>\n",
       "      <td>member</td>\n",
       "      <td>...</td>\n",
       "      <td>Virginia</td>\n",
       "      <td>2021-03-31 00:00:00</td>\n",
       "      <td>2021-03-31 00:00:00</td>\n",
       "      <td>618976.0</td>\n",
       "      <td>26455.0</td>\n",
       "      <td>10252.0</td>\n",
       "      <td>0 days 00:07:40</td>\n",
       "      <td>460.0</td>\n",
       "      <td>7.67</td>\n",
       "      <td>Post-COVID</td>\n",
       "    </tr>\n",
       "  </tbody>\n",
       "</table>\n",
       "<p>590687 rows × 27 columns</p>\n",
       "</div>"
      ],
      "text/plain": [
       "        Unnamed: 0  Duration           started_at             ended_at  \\\n",
       "576650     5581468     584.0  2019-02-01 17:32:06  2019-02-01 17:41:51   \n",
       "576618     5581227     331.0  2019-02-01 16:43:04  2019-02-01 16:48:35   \n",
       "576620     5581246     774.0  2019-02-01 16:50:40  2019-02-01 17:03:35   \n",
       "576621     5581248     129.0  2019-02-01 16:50:47  2019-02-01 16:52:56   \n",
       "576622     5581249     919.0  2019-02-01 16:50:52  2019-02-01 17:06:12   \n",
       "...            ...       ...                  ...                  ...   \n",
       "514259     5024028       NaN  2021-03-31 18:37:01  2021-03-31 18:42:34   \n",
       "508523     4974058       NaN  2021-03-31 19:34:13  2021-03-31 19:53:22   \n",
       "512657     5012534       NaN  2021-03-31 13:20:49  2021-03-31 13:34:40   \n",
       "514308     5024665       NaN  2021-03-31 09:28:09  2021-03-31 09:34:50   \n",
       "509817     4989065       NaN  2021-03-31 21:46:53  2021-03-31 21:54:33   \n",
       "\n",
       "        start_station_id                             start_station_name  \\\n",
       "576650           31060.0             S Arlington Mill Dr & Campbell Ave   \n",
       "576618           31022.0  Clarendon Metro / Wilson Blvd & N Highland St   \n",
       "576620           31023.0                       Fairfax Dr & Wilson Blvd   \n",
       "576621           31003.0                         Crystal Dr & 15th St S   \n",
       "576622           32214.0             Reston Town Center Transit Station   \n",
       "...                  ...                                            ...   \n",
       "514259           31013.0                            Eads St & 22nd St S   \n",
       "508523           31039.0                      Wilson Blvd & N Quincy St   \n",
       "512657           31014.0                        Lynn St & 19th St North   \n",
       "514308           31944.0                           S Clark St & 33rd St   \n",
       "509817           31020.0                    Wilson Blvd & N Franklin Rd   \n",
       "\n",
       "        end_station_id                            end_station_name  \\\n",
       "576650         31056.0                       S Troy St & 26th St S   \n",
       "576618         31094.0                     Lee Hwy & N Kirkwood Rd   \n",
       "576620         31069.0                Pershing & N George Mason Dr   \n",
       "576621         31007.0         Crystal City Metro / 18th & Bell St   \n",
       "576622         32215.0            Wiehle Ave & Reston Station Blvd   \n",
       "...                ...                                         ...   \n",
       "514259         31005.0  Pentagon City Metro / 12th St & S Hayes St   \n",
       "508523         31039.0                   Wilson Blvd & N Quincy St   \n",
       "512657         31326.0                            Hardy Rec Center   \n",
       "514308         31011.0                      Crystal Dr & 23rd St S   \n",
       "509817         31014.0                     Lynn St & 19th St North   \n",
       "\n",
       "                 ride_id member_casual  ...     state                 date  \\\n",
       "576650            W23388        member  ...  Virginia  2019-02-01 00:00:00   \n",
       "576618            W20634        member  ...  Virginia  2019-02-01 00:00:00   \n",
       "576620            W24107        casual  ...  Virginia  2019-02-01 00:00:00   \n",
       "576621            W20898        member  ...  Virginia  2019-02-01 00:00:00   \n",
       "576622            W21293        member  ...  Virginia  2019-02-01 00:00:00   \n",
       "...                  ...           ...  ...       ...                  ...   \n",
       "514259  512541136C283728        member  ...  Virginia  2021-03-31 00:00:00   \n",
       "508523  753E80AC1156E4B1        member  ...  Virginia  2021-03-31 00:00:00   \n",
       "512657  1251F62F7A36772F        member  ...  Virginia  2021-03-31 00:00:00   \n",
       "514308  3C4584F59B1D768D        casual  ...  Virginia  2021-03-31 00:00:00   \n",
       "509817  8A22F17FDB3D763A        member  ...  Virginia  2021-03-31 00:00:00   \n",
       "\n",
       "                Report Date  Total Cases  Hospitalizations   Deaths  \\\n",
       "576650                  NaN          0.0               0.0      0.0   \n",
       "576618                  NaN          0.0               0.0      0.0   \n",
       "576620                  NaN          0.0               0.0      0.0   \n",
       "576621                  NaN          0.0               0.0      0.0   \n",
       "576622                  NaN          0.0               0.0      0.0   \n",
       "...                     ...          ...               ...      ...   \n",
       "514259  2021-03-31 00:00:00     618976.0           26455.0  10252.0   \n",
       "508523  2021-03-31 00:00:00     618976.0           26455.0  10252.0   \n",
       "512657  2021-03-31 00:00:00     618976.0           26455.0  10252.0   \n",
       "514308  2021-03-31 00:00:00     618976.0           26455.0  10252.0   \n",
       "509817  2021-03-31 00:00:00     618976.0           26455.0  10252.0   \n",
       "\n",
       "           new_duration new_duration(sec) new_duration(min)    Pandemic  \n",
       "576650  0 days 00:09:45             585.0              9.75   Pre-COVID  \n",
       "576618  0 days 00:05:31             331.0              5.52   Pre-COVID  \n",
       "576620  0 days 00:12:55             775.0             12.92   Pre-COVID  \n",
       "576621  0 days 00:02:09             129.0              2.15   Pre-COVID  \n",
       "576622  0 days 00:15:20             920.0             15.33   Pre-COVID  \n",
       "...                 ...               ...               ...         ...  \n",
       "514259  0 days 00:05:33             333.0              5.55  Post-COVID  \n",
       "508523  0 days 00:19:09            1149.0             19.15  Post-COVID  \n",
       "512657  0 days 00:13:51             831.0             13.85  Post-COVID  \n",
       "514308  0 days 00:06:41             401.0              6.68  Post-COVID  \n",
       "509817  0 days 00:07:40             460.0              7.67  Post-COVID  \n",
       "\n",
       "[590687 rows x 27 columns]"
      ]
     },
     "execution_count": 21,
     "metadata": {},
     "output_type": "execute_result"
    }
   ],
   "source": [
    "df[\"Pandemic\"]= np.where(df[\"date\"]<'2020-03-13',\"Pre-COVID\",\"Post-COVID\")\n",
    "df.sort_values(\"date\")"
   ]
  },
  {
   "cell_type": "markdown",
   "metadata": {},
   "source": [
    "Checking to see what the lowest duration is:"
   ]
  },
  {
   "cell_type": "code",
   "execution_count": 22,
   "metadata": {},
   "outputs": [
    {
     "data": {
      "text/plain": [
       "-29032.53"
      ]
     },
     "execution_count": 22,
     "metadata": {},
     "output_type": "execute_result"
    }
   ],
   "source": [
    "df[\"new_duration(min)\"].min()"
   ]
  },
  {
   "cell_type": "markdown",
   "metadata": {},
   "source": [
    "From this we can see that there are negative values in our duration, probably due to some error in keeping track of records. We have decided to remove them from our analysis.\n"
   ]
  },
  {
   "cell_type": "code",
   "execution_count": 25,
   "metadata": {},
   "outputs": [
    {
     "data": {
      "text/plain": [
       "1.0"
      ]
     },
     "execution_count": 25,
     "metadata": {},
     "output_type": "execute_result"
    }
   ],
   "source": [
    "df[\"started_at\"]=pd.to_datetime(df[\"started_at\"])\n",
    "df[\"ended_at\"]=pd.to_datetime(df[\"ended_at\"])\n",
    "# only take the correct dates with no minus \n",
    "df=df[df[\"started_at\"]<df[\"ended_at\"]]\n",
    "df[\"new_duration(sec)\"].min()"
   ]
  },
  {
   "cell_type": "markdown",
   "metadata": {},
   "source": [
    "We can see that now there is no negative values. \n",
    "\n",
    "We also wanted to compare day/night ride durations, so we are going to split our records to day/night as well."
   ]
  },
  {
   "cell_type": "code",
   "execution_count": 26,
   "metadata": {},
   "outputs": [
    {
     "data": {
      "text/html": [
       "<div>\n",
       "<style scoped>\n",
       "    .dataframe tbody tr th:only-of-type {\n",
       "        vertical-align: middle;\n",
       "    }\n",
       "\n",
       "    .dataframe tbody tr th {\n",
       "        vertical-align: top;\n",
       "    }\n",
       "\n",
       "    .dataframe thead th {\n",
       "        text-align: right;\n",
       "    }\n",
       "</style>\n",
       "<table border=\"1\" class=\"dataframe\">\n",
       "  <thead>\n",
       "    <tr style=\"text-align: right;\">\n",
       "      <th></th>\n",
       "      <th>Unnamed: 0</th>\n",
       "      <th>Duration</th>\n",
       "      <th>started_at</th>\n",
       "      <th>ended_at</th>\n",
       "      <th>start_station_id</th>\n",
       "      <th>start_station_name</th>\n",
       "      <th>end_station_id</th>\n",
       "      <th>end_station_name</th>\n",
       "      <th>ride_id</th>\n",
       "      <th>member_casual</th>\n",
       "      <th>...</th>\n",
       "      <th>Report Date</th>\n",
       "      <th>Total Cases</th>\n",
       "      <th>Hospitalizations</th>\n",
       "      <th>Deaths</th>\n",
       "      <th>new_duration</th>\n",
       "      <th>new_duration(sec)</th>\n",
       "      <th>new_duration(min)</th>\n",
       "      <th>Pandemic</th>\n",
       "      <th>Hour</th>\n",
       "      <th>day/night</th>\n",
       "    </tr>\n",
       "  </thead>\n",
       "  <tbody>\n",
       "    <tr>\n",
       "      <th>0</th>\n",
       "      <td>8</td>\n",
       "      <td>1904.0</td>\n",
       "      <td>2019-10-01 00:09:40</td>\n",
       "      <td>2019-10-01 00:41:25</td>\n",
       "      <td>31064.0</td>\n",
       "      <td>Gravelly Point</td>\n",
       "      <td>31612.0</td>\n",
       "      <td>D St &amp; Maryland Ave NE</td>\n",
       "      <td>W21735</td>\n",
       "      <td>member</td>\n",
       "      <td>...</td>\n",
       "      <td>NaN</td>\n",
       "      <td>0.0</td>\n",
       "      <td>0.0</td>\n",
       "      <td>0.0</td>\n",
       "      <td>0 days 00:31:45</td>\n",
       "      <td>1905.0</td>\n",
       "      <td>31.75</td>\n",
       "      <td>Pre-COVID</td>\n",
       "      <td>0</td>\n",
       "      <td>night</td>\n",
       "    </tr>\n",
       "    <tr>\n",
       "      <th>1</th>\n",
       "      <td>10</td>\n",
       "      <td>777.0</td>\n",
       "      <td>2019-10-01 00:11:18</td>\n",
       "      <td>2019-10-01 00:24:15</td>\n",
       "      <td>31026.0</td>\n",
       "      <td>Washington Blvd &amp; 10th St N</td>\n",
       "      <td>31073.0</td>\n",
       "      <td>Washington Blvd &amp; Walter Reed Dr</td>\n",
       "      <td>W00410</td>\n",
       "      <td>member</td>\n",
       "      <td>...</td>\n",
       "      <td>NaN</td>\n",
       "      <td>0.0</td>\n",
       "      <td>0.0</td>\n",
       "      <td>0.0</td>\n",
       "      <td>0 days 00:12:57</td>\n",
       "      <td>777.0</td>\n",
       "      <td>12.95</td>\n",
       "      <td>Pre-COVID</td>\n",
       "      <td>0</td>\n",
       "      <td>night</td>\n",
       "    </tr>\n",
       "    <tr>\n",
       "      <th>2</th>\n",
       "      <td>36</td>\n",
       "      <td>1046.0</td>\n",
       "      <td>2019-10-01 01:07:52</td>\n",
       "      <td>2019-10-01 01:25:19</td>\n",
       "      <td>32220.0</td>\n",
       "      <td>Sunset Hills Rd &amp; Isaac Newton Square</td>\n",
       "      <td>32216.0</td>\n",
       "      <td>Library St &amp; Freedom Dr</td>\n",
       "      <td>W20489</td>\n",
       "      <td>casual</td>\n",
       "      <td>...</td>\n",
       "      <td>NaN</td>\n",
       "      <td>0.0</td>\n",
       "      <td>0.0</td>\n",
       "      <td>0.0</td>\n",
       "      <td>0 days 00:17:27</td>\n",
       "      <td>1047.0</td>\n",
       "      <td>17.45</td>\n",
       "      <td>Pre-COVID</td>\n",
       "      <td>1</td>\n",
       "      <td>night</td>\n",
       "    </tr>\n",
       "    <tr>\n",
       "      <th>3</th>\n",
       "      <td>45</td>\n",
       "      <td>1119.0</td>\n",
       "      <td>2019-10-01 01:53:24</td>\n",
       "      <td>2019-10-01 02:12:04</td>\n",
       "      <td>31014.0</td>\n",
       "      <td>Lynn St &amp; 19th St North</td>\n",
       "      <td>31509.0</td>\n",
       "      <td>New Jersey Ave &amp; R St NW</td>\n",
       "      <td>W22594</td>\n",
       "      <td>member</td>\n",
       "      <td>...</td>\n",
       "      <td>NaN</td>\n",
       "      <td>0.0</td>\n",
       "      <td>0.0</td>\n",
       "      <td>0.0</td>\n",
       "      <td>0 days 00:18:40</td>\n",
       "      <td>1120.0</td>\n",
       "      <td>18.67</td>\n",
       "      <td>Pre-COVID</td>\n",
       "      <td>1</td>\n",
       "      <td>night</td>\n",
       "    </tr>\n",
       "    <tr>\n",
       "      <th>4</th>\n",
       "      <td>47</td>\n",
       "      <td>1171.0</td>\n",
       "      <td>2019-10-01 01:56:47</td>\n",
       "      <td>2019-10-01 02:16:19</td>\n",
       "      <td>31013.0</td>\n",
       "      <td>Eads St &amp; 22nd St S</td>\n",
       "      <td>31129.0</td>\n",
       "      <td>15th St &amp; Pennsylvania Ave NW</td>\n",
       "      <td>W22874</td>\n",
       "      <td>member</td>\n",
       "      <td>...</td>\n",
       "      <td>NaN</td>\n",
       "      <td>0.0</td>\n",
       "      <td>0.0</td>\n",
       "      <td>0.0</td>\n",
       "      <td>0 days 00:19:32</td>\n",
       "      <td>1172.0</td>\n",
       "      <td>19.53</td>\n",
       "      <td>Pre-COVID</td>\n",
       "      <td>1</td>\n",
       "      <td>night</td>\n",
       "    </tr>\n",
       "  </tbody>\n",
       "</table>\n",
       "<p>5 rows × 29 columns</p>\n",
       "</div>"
      ],
      "text/plain": [
       "   Unnamed: 0  Duration          started_at            ended_at  \\\n",
       "0           8    1904.0 2019-10-01 00:09:40 2019-10-01 00:41:25   \n",
       "1          10     777.0 2019-10-01 00:11:18 2019-10-01 00:24:15   \n",
       "2          36    1046.0 2019-10-01 01:07:52 2019-10-01 01:25:19   \n",
       "3          45    1119.0 2019-10-01 01:53:24 2019-10-01 02:12:04   \n",
       "4          47    1171.0 2019-10-01 01:56:47 2019-10-01 02:16:19   \n",
       "\n",
       "   start_station_id                     start_station_name  end_station_id  \\\n",
       "0           31064.0                         Gravelly Point         31612.0   \n",
       "1           31026.0            Washington Blvd & 10th St N         31073.0   \n",
       "2           32220.0  Sunset Hills Rd & Isaac Newton Square         32216.0   \n",
       "3           31014.0                Lynn St & 19th St North         31509.0   \n",
       "4           31013.0                    Eads St & 22nd St S         31129.0   \n",
       "\n",
       "                    end_station_name ride_id member_casual  ... Report Date  \\\n",
       "0             D St & Maryland Ave NE  W21735        member  ...         NaN   \n",
       "1  Washington Blvd & Walter Reed Dr   W00410        member  ...         NaN   \n",
       "2            Library St & Freedom Dr  W20489        casual  ...         NaN   \n",
       "3           New Jersey Ave & R St NW  W22594        member  ...         NaN   \n",
       "4      15th St & Pennsylvania Ave NW  W22874        member  ...         NaN   \n",
       "\n",
       "  Total Cases  Hospitalizations  Deaths     new_duration  new_duration(sec)  \\\n",
       "0         0.0               0.0     0.0  0 days 00:31:45             1905.0   \n",
       "1         0.0               0.0     0.0  0 days 00:12:57              777.0   \n",
       "2         0.0               0.0     0.0  0 days 00:17:27             1047.0   \n",
       "3         0.0               0.0     0.0  0 days 00:18:40             1120.0   \n",
       "4         0.0               0.0     0.0  0 days 00:19:32             1172.0   \n",
       "\n",
       "   new_duration(min)   Pandemic Hour day/night  \n",
       "0              31.75  Pre-COVID    0     night  \n",
       "1              12.95  Pre-COVID    0     night  \n",
       "2              17.45  Pre-COVID    1     night  \n",
       "3              18.67  Pre-COVID    1     night  \n",
       "4              19.53  Pre-COVID    1     night  \n",
       "\n",
       "[5 rows x 29 columns]"
      ]
     },
     "execution_count": 26,
     "metadata": {},
     "output_type": "execute_result"
    }
   ],
   "source": [
    "# Create Day and Night\n",
    "df[\"Hour\"]=df[\"started_at\"].dt.hour\n",
    "\n",
    "#creating column \"night\" and \"day\"\n",
    "df[\"day/night\"]= np.where((df[\"Hour\"]>19)|(df[\"Hour\"]<5),\"night\",\"day\")\n",
    "df[df[\"day/night\"]==\"day\"]\n",
    "df.head()"
   ]
  },
  {
   "cell_type": "markdown",
   "metadata": {},
   "source": [
    "To make our duration analysis more intuitive, we are going to convert our duration into min."
   ]
  },
  {
   "cell_type": "code",
   "execution_count": 27,
   "metadata": {},
   "outputs": [
    {
     "data": {
      "text/html": [
       "<div>\n",
       "<style scoped>\n",
       "    .dataframe tbody tr th:only-of-type {\n",
       "        vertical-align: middle;\n",
       "    }\n",
       "\n",
       "    .dataframe tbody tr th {\n",
       "        vertical-align: top;\n",
       "    }\n",
       "\n",
       "    .dataframe thead th {\n",
       "        text-align: right;\n",
       "    }\n",
       "</style>\n",
       "<table border=\"1\" class=\"dataframe\">\n",
       "  <thead>\n",
       "    <tr style=\"text-align: right;\">\n",
       "      <th></th>\n",
       "      <th>Unnamed: 0</th>\n",
       "      <th>Duration</th>\n",
       "      <th>started_at</th>\n",
       "      <th>ended_at</th>\n",
       "      <th>start_station_id</th>\n",
       "      <th>start_station_name</th>\n",
       "      <th>end_station_id</th>\n",
       "      <th>end_station_name</th>\n",
       "      <th>ride_id</th>\n",
       "      <th>member_casual</th>\n",
       "      <th>...</th>\n",
       "      <th>Report Date</th>\n",
       "      <th>Total Cases</th>\n",
       "      <th>Hospitalizations</th>\n",
       "      <th>Deaths</th>\n",
       "      <th>new_duration</th>\n",
       "      <th>new_duration(sec)</th>\n",
       "      <th>new_duration(min)</th>\n",
       "      <th>Pandemic</th>\n",
       "      <th>Hour</th>\n",
       "      <th>day/night</th>\n",
       "    </tr>\n",
       "  </thead>\n",
       "  <tbody>\n",
       "    <tr>\n",
       "      <th>0</th>\n",
       "      <td>8</td>\n",
       "      <td>1904.0</td>\n",
       "      <td>2019-10-01 00:09:40</td>\n",
       "      <td>2019-10-01 00:41:25</td>\n",
       "      <td>31064.0</td>\n",
       "      <td>Gravelly Point</td>\n",
       "      <td>31612.0</td>\n",
       "      <td>D St &amp; Maryland Ave NE</td>\n",
       "      <td>W21735</td>\n",
       "      <td>member</td>\n",
       "      <td>...</td>\n",
       "      <td>NaN</td>\n",
       "      <td>0.0</td>\n",
       "      <td>0.0</td>\n",
       "      <td>0.0</td>\n",
       "      <td>0 days 00:31:45</td>\n",
       "      <td>1905.0</td>\n",
       "      <td>31.75</td>\n",
       "      <td>Pre-COVID</td>\n",
       "      <td>0</td>\n",
       "      <td>night</td>\n",
       "    </tr>\n",
       "    <tr>\n",
       "      <th>1</th>\n",
       "      <td>10</td>\n",
       "      <td>777.0</td>\n",
       "      <td>2019-10-01 00:11:18</td>\n",
       "      <td>2019-10-01 00:24:15</td>\n",
       "      <td>31026.0</td>\n",
       "      <td>Washington Blvd &amp; 10th St N</td>\n",
       "      <td>31073.0</td>\n",
       "      <td>Washington Blvd &amp; Walter Reed Dr</td>\n",
       "      <td>W00410</td>\n",
       "      <td>member</td>\n",
       "      <td>...</td>\n",
       "      <td>NaN</td>\n",
       "      <td>0.0</td>\n",
       "      <td>0.0</td>\n",
       "      <td>0.0</td>\n",
       "      <td>0 days 00:12:57</td>\n",
       "      <td>777.0</td>\n",
       "      <td>12.95</td>\n",
       "      <td>Pre-COVID</td>\n",
       "      <td>0</td>\n",
       "      <td>night</td>\n",
       "    </tr>\n",
       "    <tr>\n",
       "      <th>2</th>\n",
       "      <td>36</td>\n",
       "      <td>1046.0</td>\n",
       "      <td>2019-10-01 01:07:52</td>\n",
       "      <td>2019-10-01 01:25:19</td>\n",
       "      <td>32220.0</td>\n",
       "      <td>Sunset Hills Rd &amp; Isaac Newton Square</td>\n",
       "      <td>32216.0</td>\n",
       "      <td>Library St &amp; Freedom Dr</td>\n",
       "      <td>W20489</td>\n",
       "      <td>casual</td>\n",
       "      <td>...</td>\n",
       "      <td>NaN</td>\n",
       "      <td>0.0</td>\n",
       "      <td>0.0</td>\n",
       "      <td>0.0</td>\n",
       "      <td>0 days 00:17:27</td>\n",
       "      <td>1047.0</td>\n",
       "      <td>17.45</td>\n",
       "      <td>Pre-COVID</td>\n",
       "      <td>1</td>\n",
       "      <td>night</td>\n",
       "    </tr>\n",
       "    <tr>\n",
       "      <th>3</th>\n",
       "      <td>45</td>\n",
       "      <td>1119.0</td>\n",
       "      <td>2019-10-01 01:53:24</td>\n",
       "      <td>2019-10-01 02:12:04</td>\n",
       "      <td>31014.0</td>\n",
       "      <td>Lynn St &amp; 19th St North</td>\n",
       "      <td>31509.0</td>\n",
       "      <td>New Jersey Ave &amp; R St NW</td>\n",
       "      <td>W22594</td>\n",
       "      <td>member</td>\n",
       "      <td>...</td>\n",
       "      <td>NaN</td>\n",
       "      <td>0.0</td>\n",
       "      <td>0.0</td>\n",
       "      <td>0.0</td>\n",
       "      <td>0 days 00:18:40</td>\n",
       "      <td>1120.0</td>\n",
       "      <td>18.67</td>\n",
       "      <td>Pre-COVID</td>\n",
       "      <td>1</td>\n",
       "      <td>night</td>\n",
       "    </tr>\n",
       "    <tr>\n",
       "      <th>4</th>\n",
       "      <td>47</td>\n",
       "      <td>1171.0</td>\n",
       "      <td>2019-10-01 01:56:47</td>\n",
       "      <td>2019-10-01 02:16:19</td>\n",
       "      <td>31013.0</td>\n",
       "      <td>Eads St &amp; 22nd St S</td>\n",
       "      <td>31129.0</td>\n",
       "      <td>15th St &amp; Pennsylvania Ave NW</td>\n",
       "      <td>W22874</td>\n",
       "      <td>member</td>\n",
       "      <td>...</td>\n",
       "      <td>NaN</td>\n",
       "      <td>0.0</td>\n",
       "      <td>0.0</td>\n",
       "      <td>0.0</td>\n",
       "      <td>0 days 00:19:32</td>\n",
       "      <td>1172.0</td>\n",
       "      <td>19.53</td>\n",
       "      <td>Pre-COVID</td>\n",
       "      <td>1</td>\n",
       "      <td>night</td>\n",
       "    </tr>\n",
       "  </tbody>\n",
       "</table>\n",
       "<p>5 rows × 29 columns</p>\n",
       "</div>"
      ],
      "text/plain": [
       "   Unnamed: 0  Duration          started_at            ended_at  \\\n",
       "0           8    1904.0 2019-10-01 00:09:40 2019-10-01 00:41:25   \n",
       "1          10     777.0 2019-10-01 00:11:18 2019-10-01 00:24:15   \n",
       "2          36    1046.0 2019-10-01 01:07:52 2019-10-01 01:25:19   \n",
       "3          45    1119.0 2019-10-01 01:53:24 2019-10-01 02:12:04   \n",
       "4          47    1171.0 2019-10-01 01:56:47 2019-10-01 02:16:19   \n",
       "\n",
       "   start_station_id                     start_station_name  end_station_id  \\\n",
       "0           31064.0                         Gravelly Point         31612.0   \n",
       "1           31026.0            Washington Blvd & 10th St N         31073.0   \n",
       "2           32220.0  Sunset Hills Rd & Isaac Newton Square         32216.0   \n",
       "3           31014.0                Lynn St & 19th St North         31509.0   \n",
       "4           31013.0                    Eads St & 22nd St S         31129.0   \n",
       "\n",
       "                    end_station_name ride_id member_casual  ... Report Date  \\\n",
       "0             D St & Maryland Ave NE  W21735        member  ...         NaN   \n",
       "1  Washington Blvd & Walter Reed Dr   W00410        member  ...         NaN   \n",
       "2            Library St & Freedom Dr  W20489        casual  ...         NaN   \n",
       "3           New Jersey Ave & R St NW  W22594        member  ...         NaN   \n",
       "4      15th St & Pennsylvania Ave NW  W22874        member  ...         NaN   \n",
       "\n",
       "  Total Cases  Hospitalizations  Deaths     new_duration  new_duration(sec)  \\\n",
       "0         0.0               0.0     0.0  0 days 00:31:45             1905.0   \n",
       "1         0.0               0.0     0.0  0 days 00:12:57              777.0   \n",
       "2         0.0               0.0     0.0  0 days 00:17:27             1047.0   \n",
       "3         0.0               0.0     0.0  0 days 00:18:40             1120.0   \n",
       "4         0.0               0.0     0.0  0 days 00:19:32             1172.0   \n",
       "\n",
       "   new_duration(min)   Pandemic Hour day/night  \n",
       "0              31.75  Pre-COVID    0     night  \n",
       "1              12.95  Pre-COVID    0     night  \n",
       "2              17.45  Pre-COVID    1     night  \n",
       "3              18.67  Pre-COVID    1     night  \n",
       "4              19.53  Pre-COVID    1     night  \n",
       "\n",
       "[5 rows x 29 columns]"
      ]
     },
     "execution_count": 27,
     "metadata": {},
     "output_type": "execute_result"
    }
   ],
   "source": [
    "df[\"new_duration(min)\"]=df[\"new_duration(sec)\"]/60\n",
    "df[\"new_duration(min)\"]=round(df[\"new_duration(min)\"], 2)\n",
    "df.head()"
   ]
  },
  {
   "cell_type": "code",
   "execution_count": 28,
   "metadata": {},
   "outputs": [
    {
     "data": {
      "text/plain": [
       "<AxesSubplot:>"
      ]
     },
     "execution_count": 28,
     "metadata": {},
     "output_type": "execute_result"
    },
    {
     "data": {
      "image/png": "[encoded data removed]",
      "text/plain": [
       "<Figure size 432x288 with 1 Axes>"
      ]
     },
     "metadata": {
      "needs_background": "light"
     },
     "output_type": "display_data"
    }
   ],
   "source": [
    "df[\"new_duration(min)\"].plot()"
   ]
  },
  {
   "cell_type": "code",
   "execution_count": 29,
   "metadata": {},
   "outputs": [],
   "source": [
    "import seaborn as sns\n",
    "import matplotlib.pyplot as plt "
   ]
  },
  {
   "cell_type": "code",
   "execution_count": 30,
   "metadata": {},
   "outputs": [
    {
     "data": {
      "text/plain": [
       "count    589905.000000\n",
       "mean         25.547342\n",
       "std         277.878735\n",
       "min           0.020000\n",
       "25%           6.600000\n",
       "50%          13.130000\n",
       "75%          24.700000\n",
       "max       86434.150000\n",
       "Name: new_duration(min), dtype: float64"
      ]
     },
     "execution_count": 30,
     "metadata": {},
     "output_type": "execute_result"
    }
   ],
   "source": [
    "df[\"new_duration(min)\"].describe()"
   ]
  },
  {
   "cell_type": "markdown",
   "metadata": {},
   "source": [
    "We can see that there is a big difference in the duration even for the 75% percentil and the maximum. \n",
    "\n",
    "Just creating a box plot looks like this:"
   ]
  },
  {
   "cell_type": "code",
   "execution_count": 31,
   "metadata": {},
   "outputs": [
    {
     "name": "stderr",
     "output_type": "stream",
     "text": [
      "/opt/anaconda3/lib/python3.8/site-packages/seaborn/categorical.py:3704: UserWarning: The `factorplot` function has been renamed to `catplot`. The original name will be removed in a future release. Please update your code. Note that the default `kind` in `factorplot` (`'point'`) has changed `'strip'` in `catplot`.\n",
      "  warnings.warn(msg)\n"
     ]
    },
    {
     "data": {
      "text/plain": [
       "<seaborn.axisgrid.FacetGrid at 0x7fbea5c00160>"
      ]
     },
     "execution_count": 31,
     "metadata": {},
     "output_type": "execute_result"
    },
    {
     "data": {
      "image/png": "[encoded data removed]",
      "text/plain": [
       "<Figure size 360x360 with 1 Axes>"
      ]
     },
     "metadata": {
      "needs_background": "light"
     },
     "output_type": "display_data"
    }
   ],
   "source": [
    "sns.factorplot(x='Pandemic', y='new_duration(min)', kind='box',data=df)"
   ]
  },
  {
   "cell_type": "markdown",
   "metadata": {},
   "source": [
    "We can see that it doesn't really give us any information that is useful. \n",
    "\n",
    "Doing a little a little bit of research, most people tend to ride less than an hour, so coing to cut off our records to ~60 min and from 5 min."
   ]
  },
  {
   "cell_type": "code",
   "execution_count": 32,
   "metadata": {},
   "outputs": [
    {
     "data": {
      "text/html": [
       "<div>\n",
       "<style scoped>\n",
       "    .dataframe tbody tr th:only-of-type {\n",
       "        vertical-align: middle;\n",
       "    }\n",
       "\n",
       "    .dataframe tbody tr th {\n",
       "        vertical-align: top;\n",
       "    }\n",
       "\n",
       "    .dataframe thead th {\n",
       "        text-align: right;\n",
       "    }\n",
       "</style>\n",
       "<table border=\"1\" class=\"dataframe\">\n",
       "  <thead>\n",
       "    <tr style=\"text-align: right;\">\n",
       "      <th></th>\n",
       "      <th>Unnamed: 0</th>\n",
       "      <th>Duration</th>\n",
       "      <th>started_at</th>\n",
       "      <th>ended_at</th>\n",
       "      <th>start_station_id</th>\n",
       "      <th>start_station_name</th>\n",
       "      <th>end_station_id</th>\n",
       "      <th>end_station_name</th>\n",
       "      <th>ride_id</th>\n",
       "      <th>member_casual</th>\n",
       "      <th>...</th>\n",
       "      <th>Report Date</th>\n",
       "      <th>Total Cases</th>\n",
       "      <th>Hospitalizations</th>\n",
       "      <th>Deaths</th>\n",
       "      <th>new_duration</th>\n",
       "      <th>new_duration(sec)</th>\n",
       "      <th>new_duration(min)</th>\n",
       "      <th>Pandemic</th>\n",
       "      <th>Hour</th>\n",
       "      <th>day/night</th>\n",
       "    </tr>\n",
       "  </thead>\n",
       "  <tbody>\n",
       "    <tr>\n",
       "      <th>0</th>\n",
       "      <td>8</td>\n",
       "      <td>1904.0</td>\n",
       "      <td>2019-10-01 00:09:40</td>\n",
       "      <td>2019-10-01 00:41:25</td>\n",
       "      <td>31064.0</td>\n",
       "      <td>Gravelly Point</td>\n",
       "      <td>31612.0</td>\n",
       "      <td>D St &amp; Maryland Ave NE</td>\n",
       "      <td>W21735</td>\n",
       "      <td>member</td>\n",
       "      <td>...</td>\n",
       "      <td>NaN</td>\n",
       "      <td>0.0</td>\n",
       "      <td>0.0</td>\n",
       "      <td>0.0</td>\n",
       "      <td>0 days 00:31:45</td>\n",
       "      <td>1905.0</td>\n",
       "      <td>31.75</td>\n",
       "      <td>Pre-COVID</td>\n",
       "      <td>0</td>\n",
       "      <td>night</td>\n",
       "    </tr>\n",
       "    <tr>\n",
       "      <th>1</th>\n",
       "      <td>10</td>\n",
       "      <td>777.0</td>\n",
       "      <td>2019-10-01 00:11:18</td>\n",
       "      <td>2019-10-01 00:24:15</td>\n",
       "      <td>31026.0</td>\n",
       "      <td>Washington Blvd &amp; 10th St N</td>\n",
       "      <td>31073.0</td>\n",
       "      <td>Washington Blvd &amp; Walter Reed Dr</td>\n",
       "      <td>W00410</td>\n",
       "      <td>member</td>\n",
       "      <td>...</td>\n",
       "      <td>NaN</td>\n",
       "      <td>0.0</td>\n",
       "      <td>0.0</td>\n",
       "      <td>0.0</td>\n",
       "      <td>0 days 00:12:57</td>\n",
       "      <td>777.0</td>\n",
       "      <td>12.95</td>\n",
       "      <td>Pre-COVID</td>\n",
       "      <td>0</td>\n",
       "      <td>night</td>\n",
       "    </tr>\n",
       "    <tr>\n",
       "      <th>2</th>\n",
       "      <td>36</td>\n",
       "      <td>1046.0</td>\n",
       "      <td>2019-10-01 01:07:52</td>\n",
       "      <td>2019-10-01 01:25:19</td>\n",
       "      <td>32220.0</td>\n",
       "      <td>Sunset Hills Rd &amp; Isaac Newton Square</td>\n",
       "      <td>32216.0</td>\n",
       "      <td>Library St &amp; Freedom Dr</td>\n",
       "      <td>W20489</td>\n",
       "      <td>casual</td>\n",
       "      <td>...</td>\n",
       "      <td>NaN</td>\n",
       "      <td>0.0</td>\n",
       "      <td>0.0</td>\n",
       "      <td>0.0</td>\n",
       "      <td>0 days 00:17:27</td>\n",
       "      <td>1047.0</td>\n",
       "      <td>17.45</td>\n",
       "      <td>Pre-COVID</td>\n",
       "      <td>1</td>\n",
       "      <td>night</td>\n",
       "    </tr>\n",
       "    <tr>\n",
       "      <th>3</th>\n",
       "      <td>45</td>\n",
       "      <td>1119.0</td>\n",
       "      <td>2019-10-01 01:53:24</td>\n",
       "      <td>2019-10-01 02:12:04</td>\n",
       "      <td>31014.0</td>\n",
       "      <td>Lynn St &amp; 19th St North</td>\n",
       "      <td>31509.0</td>\n",
       "      <td>New Jersey Ave &amp; R St NW</td>\n",
       "      <td>W22594</td>\n",
       "      <td>member</td>\n",
       "      <td>...</td>\n",
       "      <td>NaN</td>\n",
       "      <td>0.0</td>\n",
       "      <td>0.0</td>\n",
       "      <td>0.0</td>\n",
       "      <td>0 days 00:18:40</td>\n",
       "      <td>1120.0</td>\n",
       "      <td>18.67</td>\n",
       "      <td>Pre-COVID</td>\n",
       "      <td>1</td>\n",
       "      <td>night</td>\n",
       "    </tr>\n",
       "    <tr>\n",
       "      <th>4</th>\n",
       "      <td>47</td>\n",
       "      <td>1171.0</td>\n",
       "      <td>2019-10-01 01:56:47</td>\n",
       "      <td>2019-10-01 02:16:19</td>\n",
       "      <td>31013.0</td>\n",
       "      <td>Eads St &amp; 22nd St S</td>\n",
       "      <td>31129.0</td>\n",
       "      <td>15th St &amp; Pennsylvania Ave NW</td>\n",
       "      <td>W22874</td>\n",
       "      <td>member</td>\n",
       "      <td>...</td>\n",
       "      <td>NaN</td>\n",
       "      <td>0.0</td>\n",
       "      <td>0.0</td>\n",
       "      <td>0.0</td>\n",
       "      <td>0 days 00:19:32</td>\n",
       "      <td>1172.0</td>\n",
       "      <td>19.53</td>\n",
       "      <td>Pre-COVID</td>\n",
       "      <td>1</td>\n",
       "      <td>night</td>\n",
       "    </tr>\n",
       "    <tr>\n",
       "      <th>...</th>\n",
       "      <td>...</td>\n",
       "      <td>...</td>\n",
       "      <td>...</td>\n",
       "      <td>...</td>\n",
       "      <td>...</td>\n",
       "      <td>...</td>\n",
       "      <td>...</td>\n",
       "      <td>...</td>\n",
       "      <td>...</td>\n",
       "      <td>...</td>\n",
       "      <td>...</td>\n",
       "      <td>...</td>\n",
       "      <td>...</td>\n",
       "      <td>...</td>\n",
       "      <td>...</td>\n",
       "      <td>...</td>\n",
       "      <td>...</td>\n",
       "      <td>...</td>\n",
       "      <td>...</td>\n",
       "      <td>...</td>\n",
       "      <td>...</td>\n",
       "    </tr>\n",
       "    <tr>\n",
       "      <th>590680</th>\n",
       "      <td>5737700</td>\n",
       "      <td>823.0</td>\n",
       "      <td>2019-02-28 22:33:59</td>\n",
       "      <td>2019-02-28 22:47:42</td>\n",
       "      <td>31916.0</td>\n",
       "      <td>Potomac &amp; Swann Ave</td>\n",
       "      <td>31098.0</td>\n",
       "      <td>King St Metro North / Cameron St</td>\n",
       "      <td>W23281</td>\n",
       "      <td>member</td>\n",
       "      <td>...</td>\n",
       "      <td>NaN</td>\n",
       "      <td>0.0</td>\n",
       "      <td>0.0</td>\n",
       "      <td>0.0</td>\n",
       "      <td>0 days 00:13:43</td>\n",
       "      <td>823.0</td>\n",
       "      <td>13.72</td>\n",
       "      <td>Pre-COVID</td>\n",
       "      <td>22</td>\n",
       "      <td>night</td>\n",
       "    </tr>\n",
       "    <tr>\n",
       "      <th>590681</th>\n",
       "      <td>5737704</td>\n",
       "      <td>450.0</td>\n",
       "      <td>2019-02-28 22:36:39</td>\n",
       "      <td>2019-02-28 22:44:10</td>\n",
       "      <td>31048.0</td>\n",
       "      <td>King St Metro South</td>\n",
       "      <td>31914.0</td>\n",
       "      <td>Lee Center</td>\n",
       "      <td>W22919</td>\n",
       "      <td>member</td>\n",
       "      <td>...</td>\n",
       "      <td>NaN</td>\n",
       "      <td>0.0</td>\n",
       "      <td>0.0</td>\n",
       "      <td>0.0</td>\n",
       "      <td>0 days 00:07:31</td>\n",
       "      <td>451.0</td>\n",
       "      <td>7.52</td>\n",
       "      <td>Pre-COVID</td>\n",
       "      <td>22</td>\n",
       "      <td>night</td>\n",
       "    </tr>\n",
       "    <tr>\n",
       "      <th>590682</th>\n",
       "      <td>5737718</td>\n",
       "      <td>883.0</td>\n",
       "      <td>2019-02-28 22:43:18</td>\n",
       "      <td>2019-02-28 22:58:01</td>\n",
       "      <td>31924.0</td>\n",
       "      <td>Wilson Blvd &amp; N Troy St</td>\n",
       "      <td>31096.0</td>\n",
       "      <td>S Walter Reed Dr &amp; 8th St S</td>\n",
       "      <td>W20183</td>\n",
       "      <td>member</td>\n",
       "      <td>...</td>\n",
       "      <td>NaN</td>\n",
       "      <td>0.0</td>\n",
       "      <td>0.0</td>\n",
       "      <td>0.0</td>\n",
       "      <td>0 days 00:14:43</td>\n",
       "      <td>883.0</td>\n",
       "      <td>14.72</td>\n",
       "      <td>Pre-COVID</td>\n",
       "      <td>22</td>\n",
       "      <td>night</td>\n",
       "    </tr>\n",
       "    <tr>\n",
       "      <th>590684</th>\n",
       "      <td>5737762</td>\n",
       "      <td>584.0</td>\n",
       "      <td>2019-02-28 23:12:00</td>\n",
       "      <td>2019-02-28 23:21:44</td>\n",
       "      <td>31037.0</td>\n",
       "      <td>Ballston Metro / N Stuart &amp; 9th St N</td>\n",
       "      <td>31020.0</td>\n",
       "      <td>Wilson Blvd &amp; Franklin Rd</td>\n",
       "      <td>W22650</td>\n",
       "      <td>member</td>\n",
       "      <td>...</td>\n",
       "      <td>NaN</td>\n",
       "      <td>0.0</td>\n",
       "      <td>0.0</td>\n",
       "      <td>0.0</td>\n",
       "      <td>0 days 00:09:44</td>\n",
       "      <td>584.0</td>\n",
       "      <td>9.73</td>\n",
       "      <td>Pre-COVID</td>\n",
       "      <td>23</td>\n",
       "      <td>night</td>\n",
       "    </tr>\n",
       "    <tr>\n",
       "      <th>590686</th>\n",
       "      <td>5737803</td>\n",
       "      <td>1418.0</td>\n",
       "      <td>2019-02-28 23:45:17</td>\n",
       "      <td>2019-03-01 00:08:55</td>\n",
       "      <td>31037.0</td>\n",
       "      <td>Ballston Metro / N Stuart &amp; 9th St N</td>\n",
       "      <td>31905.0</td>\n",
       "      <td>Kennebec St &amp; 11th St N</td>\n",
       "      <td>W23414</td>\n",
       "      <td>member</td>\n",
       "      <td>...</td>\n",
       "      <td>NaN</td>\n",
       "      <td>0.0</td>\n",
       "      <td>0.0</td>\n",
       "      <td>0.0</td>\n",
       "      <td>0 days 00:23:38</td>\n",
       "      <td>1418.0</td>\n",
       "      <td>23.63</td>\n",
       "      <td>Pre-COVID</td>\n",
       "      <td>23</td>\n",
       "      <td>night</td>\n",
       "    </tr>\n",
       "  </tbody>\n",
       "</table>\n",
       "<p>456155 rows × 29 columns</p>\n",
       "</div>"
      ],
      "text/plain": [
       "        Unnamed: 0  Duration          started_at            ended_at  \\\n",
       "0                8    1904.0 2019-10-01 00:09:40 2019-10-01 00:41:25   \n",
       "1               10     777.0 2019-10-01 00:11:18 2019-10-01 00:24:15   \n",
       "2               36    1046.0 2019-10-01 01:07:52 2019-10-01 01:25:19   \n",
       "3               45    1119.0 2019-10-01 01:53:24 2019-10-01 02:12:04   \n",
       "4               47    1171.0 2019-10-01 01:56:47 2019-10-01 02:16:19   \n",
       "...            ...       ...                 ...                 ...   \n",
       "590680     5737700     823.0 2019-02-28 22:33:59 2019-02-28 22:47:42   \n",
       "590681     5737704     450.0 2019-02-28 22:36:39 2019-02-28 22:44:10   \n",
       "590682     5737718     883.0 2019-02-28 22:43:18 2019-02-28 22:58:01   \n",
       "590684     5737762     584.0 2019-02-28 23:12:00 2019-02-28 23:21:44   \n",
       "590686     5737803    1418.0 2019-02-28 23:45:17 2019-03-01 00:08:55   \n",
       "\n",
       "        start_station_id                     start_station_name  \\\n",
       "0                31064.0                         Gravelly Point   \n",
       "1                31026.0            Washington Blvd & 10th St N   \n",
       "2                32220.0  Sunset Hills Rd & Isaac Newton Square   \n",
       "3                31014.0                Lynn St & 19th St North   \n",
       "4                31013.0                    Eads St & 22nd St S   \n",
       "...                  ...                                    ...   \n",
       "590680           31916.0                    Potomac & Swann Ave   \n",
       "590681           31048.0                    King St Metro South   \n",
       "590682           31924.0                Wilson Blvd & N Troy St   \n",
       "590684           31037.0   Ballston Metro / N Stuart & 9th St N   \n",
       "590686           31037.0   Ballston Metro / N Stuart & 9th St N   \n",
       "\n",
       "        end_station_id                   end_station_name ride_id  \\\n",
       "0              31612.0             D St & Maryland Ave NE  W21735   \n",
       "1              31073.0  Washington Blvd & Walter Reed Dr   W00410   \n",
       "2              32216.0            Library St & Freedom Dr  W20489   \n",
       "3              31509.0           New Jersey Ave & R St NW  W22594   \n",
       "4              31129.0      15th St & Pennsylvania Ave NW  W22874   \n",
       "...                ...                                ...     ...   \n",
       "590680         31098.0   King St Metro North / Cameron St  W23281   \n",
       "590681         31914.0                         Lee Center  W22919   \n",
       "590682         31096.0        S Walter Reed Dr & 8th St S  W20183   \n",
       "590684         31020.0          Wilson Blvd & Franklin Rd  W22650   \n",
       "590686         31905.0            Kennebec St & 11th St N  W23414   \n",
       "\n",
       "       member_casual  ... Report Date Total Cases  Hospitalizations  Deaths  \\\n",
       "0             member  ...         NaN         0.0               0.0     0.0   \n",
       "1             member  ...         NaN         0.0               0.0     0.0   \n",
       "2             casual  ...         NaN         0.0               0.0     0.0   \n",
       "3             member  ...         NaN         0.0               0.0     0.0   \n",
       "4             member  ...         NaN         0.0               0.0     0.0   \n",
       "...              ...  ...         ...         ...               ...     ...   \n",
       "590680        member  ...         NaN         0.0               0.0     0.0   \n",
       "590681        member  ...         NaN         0.0               0.0     0.0   \n",
       "590682        member  ...         NaN         0.0               0.0     0.0   \n",
       "590684        member  ...         NaN         0.0               0.0     0.0   \n",
       "590686        member  ...         NaN         0.0               0.0     0.0   \n",
       "\n",
       "           new_duration  new_duration(sec)  new_duration(min)   Pandemic Hour  \\\n",
       "0       0 days 00:31:45             1905.0              31.75  Pre-COVID    0   \n",
       "1       0 days 00:12:57              777.0              12.95  Pre-COVID    0   \n",
       "2       0 days 00:17:27             1047.0              17.45  Pre-COVID    1   \n",
       "3       0 days 00:18:40             1120.0              18.67  Pre-COVID    1   \n",
       "4       0 days 00:19:32             1172.0              19.53  Pre-COVID    1   \n",
       "...                 ...                ...                ...        ...  ...   \n",
       "590680  0 days 00:13:43              823.0              13.72  Pre-COVID   22   \n",
       "590681  0 days 00:07:31              451.0               7.52  Pre-COVID   22   \n",
       "590682  0 days 00:14:43              883.0              14.72  Pre-COVID   22   \n",
       "590684  0 days 00:09:44              584.0               9.73  Pre-COVID   23   \n",
       "590686  0 days 00:23:38             1418.0              23.63  Pre-COVID   23   \n",
       "\n",
       "       day/night  \n",
       "0          night  \n",
       "1          night  \n",
       "2          night  \n",
       "3          night  \n",
       "4          night  \n",
       "...          ...  \n",
       "590680     night  \n",
       "590681     night  \n",
       "590682     night  \n",
       "590684     night  \n",
       "590686     night  \n",
       "\n",
       "[456155 rows x 29 columns]"
      ]
     },
     "execution_count": 32,
     "metadata": {},
     "output_type": "execute_result"
    }
   ],
   "source": [
    "lessthan1hr=df[df[\"new_duration(min)\"]<=60]\n",
    "lessthan1hr=lessthan1hr[lessthan1hr[\"new_duration(min)\"]>5]\n",
    "lessthan1hr"
   ]
  },
  {
   "cell_type": "markdown",
   "metadata": {},
   "source": [
    "We also decided to create a violin plot since it gives us more information about density as well as other basic information."
   ]
  },
  {
   "cell_type": "code",
   "execution_count": 33,
   "metadata": {},
   "outputs": [
    {
     "data": {
      "text/plain": [
       "<matplotlib.lines.Line2D at 0x7fbe7cac45e0>"
      ]
     },
     "execution_count": 33,
     "metadata": {},
     "output_type": "execute_result"
    },
    {
     "data": {
      "image/png": "[encoded data removed]",
      "text/plain": [
       "<Figure size 504x504 with 1 Axes>"
      ]
     },
     "metadata": {
      "needs_background": "light"
     },
     "output_type": "display_data"
    }
   ],
   "source": [
    "# https://seaborn.pydata.org/generated/seaborn.violinplot.html \n",
    "fig_dims = (7, 7)\n",
    "fig, ax = plt.subplots(figsize=fig_dims)\n",
    "# ax.set(ylim=(0, 10000))\n",
    "ax = sns.violinplot(x=\"Pandemic\", y=\"new_duration(min)\", hue=\"day/night\",\n",
    "                    data=lessthan1hr, palette=\"Set3\", split=True)\n",
    "ax.set_title('Duration comparison Pre/Post Covid')\n",
    "ax.set_ylabel('Ride Duration in minutes')\n",
    "ax.axhline(30,linestyle=\"dashed\")\n",
    "#ax.figure.savefig(\"Durationplot.png\")"
   ]
  },
  {
   "cell_type": "markdown",
   "metadata": {},
   "source": [
    "# Comparison on popular stations pre-covidvs. post-covid"
   ]
  },
  {
   "cell_type": "code",
   "execution_count": 35,
   "metadata": {},
   "outputs": [
    {
     "data": {
      "text/html": [
       "<div>\n",
       "<style scoped>\n",
       "    .dataframe tbody tr th:only-of-type {\n",
       "        vertical-align: middle;\n",
       "    }\n",
       "\n",
       "    .dataframe tbody tr th {\n",
       "        vertical-align: top;\n",
       "    }\n",
       "\n",
       "    .dataframe thead th {\n",
       "        text-align: right;\n",
       "    }\n",
       "</style>\n",
       "<table border=\"1\" class=\"dataframe\">\n",
       "  <thead>\n",
       "    <tr style=\"text-align: right;\">\n",
       "      <th></th>\n",
       "      <th>Unnamed: 0</th>\n",
       "      <th>Duration</th>\n",
       "      <th>started_at</th>\n",
       "      <th>ended_at</th>\n",
       "      <th>start_station_id</th>\n",
       "      <th>start_station_name</th>\n",
       "      <th>end_station_id</th>\n",
       "      <th>end_station_name</th>\n",
       "      <th>ride_id</th>\n",
       "      <th>member_casual</th>\n",
       "      <th>...</th>\n",
       "      <th>Report Date</th>\n",
       "      <th>Total Cases</th>\n",
       "      <th>Hospitalizations</th>\n",
       "      <th>Deaths</th>\n",
       "      <th>new_duration</th>\n",
       "      <th>new_duration(sec)</th>\n",
       "      <th>new_duration(min)</th>\n",
       "      <th>Pandemic</th>\n",
       "      <th>Hour</th>\n",
       "      <th>day/night</th>\n",
       "    </tr>\n",
       "  </thead>\n",
       "  <tbody>\n",
       "    <tr>\n",
       "      <th>0</th>\n",
       "      <td>8</td>\n",
       "      <td>1904.0</td>\n",
       "      <td>2019-10-01 00:09:40</td>\n",
       "      <td>2019-10-01 00:41:25</td>\n",
       "      <td>31064.0</td>\n",
       "      <td>Gravelly Point</td>\n",
       "      <td>31612.0</td>\n",
       "      <td>D St &amp; Maryland Ave NE</td>\n",
       "      <td>W21735</td>\n",
       "      <td>member</td>\n",
       "      <td>...</td>\n",
       "      <td>NaN</td>\n",
       "      <td>0.0</td>\n",
       "      <td>0.0</td>\n",
       "      <td>0.0</td>\n",
       "      <td>0 days 00:31:45</td>\n",
       "      <td>1905.0</td>\n",
       "      <td>31.75</td>\n",
       "      <td>Pre-COVID</td>\n",
       "      <td>0</td>\n",
       "      <td>night</td>\n",
       "    </tr>\n",
       "    <tr>\n",
       "      <th>1</th>\n",
       "      <td>10</td>\n",
       "      <td>777.0</td>\n",
       "      <td>2019-10-01 00:11:18</td>\n",
       "      <td>2019-10-01 00:24:15</td>\n",
       "      <td>31026.0</td>\n",
       "      <td>Washington Blvd &amp; 10th St N</td>\n",
       "      <td>31073.0</td>\n",
       "      <td>Washington Blvd &amp; Walter Reed Dr</td>\n",
       "      <td>W00410</td>\n",
       "      <td>member</td>\n",
       "      <td>...</td>\n",
       "      <td>NaN</td>\n",
       "      <td>0.0</td>\n",
       "      <td>0.0</td>\n",
       "      <td>0.0</td>\n",
       "      <td>0 days 00:12:57</td>\n",
       "      <td>777.0</td>\n",
       "      <td>12.95</td>\n",
       "      <td>Pre-COVID</td>\n",
       "      <td>0</td>\n",
       "      <td>night</td>\n",
       "    </tr>\n",
       "    <tr>\n",
       "      <th>2</th>\n",
       "      <td>36</td>\n",
       "      <td>1046.0</td>\n",
       "      <td>2019-10-01 01:07:52</td>\n",
       "      <td>2019-10-01 01:25:19</td>\n",
       "      <td>32220.0</td>\n",
       "      <td>Sunset Hills Rd &amp; Isaac Newton Square</td>\n",
       "      <td>32216.0</td>\n",
       "      <td>Library St &amp; Freedom Dr</td>\n",
       "      <td>W20489</td>\n",
       "      <td>casual</td>\n",
       "      <td>...</td>\n",
       "      <td>NaN</td>\n",
       "      <td>0.0</td>\n",
       "      <td>0.0</td>\n",
       "      <td>0.0</td>\n",
       "      <td>0 days 00:17:27</td>\n",
       "      <td>1047.0</td>\n",
       "      <td>17.45</td>\n",
       "      <td>Pre-COVID</td>\n",
       "      <td>1</td>\n",
       "      <td>night</td>\n",
       "    </tr>\n",
       "    <tr>\n",
       "      <th>3</th>\n",
       "      <td>45</td>\n",
       "      <td>1119.0</td>\n",
       "      <td>2019-10-01 01:53:24</td>\n",
       "      <td>2019-10-01 02:12:04</td>\n",
       "      <td>31014.0</td>\n",
       "      <td>Lynn St &amp; 19th St North</td>\n",
       "      <td>31509.0</td>\n",
       "      <td>New Jersey Ave &amp; R St NW</td>\n",
       "      <td>W22594</td>\n",
       "      <td>member</td>\n",
       "      <td>...</td>\n",
       "      <td>NaN</td>\n",
       "      <td>0.0</td>\n",
       "      <td>0.0</td>\n",
       "      <td>0.0</td>\n",
       "      <td>0 days 00:18:40</td>\n",
       "      <td>1120.0</td>\n",
       "      <td>18.67</td>\n",
       "      <td>Pre-COVID</td>\n",
       "      <td>1</td>\n",
       "      <td>night</td>\n",
       "    </tr>\n",
       "    <tr>\n",
       "      <th>4</th>\n",
       "      <td>47</td>\n",
       "      <td>1171.0</td>\n",
       "      <td>2019-10-01 01:56:47</td>\n",
       "      <td>2019-10-01 02:16:19</td>\n",
       "      <td>31013.0</td>\n",
       "      <td>Eads St &amp; 22nd St S</td>\n",
       "      <td>31129.0</td>\n",
       "      <td>15th St &amp; Pennsylvania Ave NW</td>\n",
       "      <td>W22874</td>\n",
       "      <td>member</td>\n",
       "      <td>...</td>\n",
       "      <td>NaN</td>\n",
       "      <td>0.0</td>\n",
       "      <td>0.0</td>\n",
       "      <td>0.0</td>\n",
       "      <td>0 days 00:19:32</td>\n",
       "      <td>1172.0</td>\n",
       "      <td>19.53</td>\n",
       "      <td>Pre-COVID</td>\n",
       "      <td>1</td>\n",
       "      <td>night</td>\n",
       "    </tr>\n",
       "  </tbody>\n",
       "</table>\n",
       "<p>5 rows × 29 columns</p>\n",
       "</div>"
      ],
      "text/plain": [
       "   Unnamed: 0  Duration          started_at            ended_at  \\\n",
       "0           8    1904.0 2019-10-01 00:09:40 2019-10-01 00:41:25   \n",
       "1          10     777.0 2019-10-01 00:11:18 2019-10-01 00:24:15   \n",
       "2          36    1046.0 2019-10-01 01:07:52 2019-10-01 01:25:19   \n",
       "3          45    1119.0 2019-10-01 01:53:24 2019-10-01 02:12:04   \n",
       "4          47    1171.0 2019-10-01 01:56:47 2019-10-01 02:16:19   \n",
       "\n",
       "   start_station_id                     start_station_name  end_station_id  \\\n",
       "0           31064.0                         Gravelly Point         31612.0   \n",
       "1           31026.0            Washington Blvd & 10th St N         31073.0   \n",
       "2           32220.0  Sunset Hills Rd & Isaac Newton Square         32216.0   \n",
       "3           31014.0                Lynn St & 19th St North         31509.0   \n",
       "4           31013.0                    Eads St & 22nd St S         31129.0   \n",
       "\n",
       "                    end_station_name ride_id member_casual  ... Report Date  \\\n",
       "0             D St & Maryland Ave NE  W21735        member  ...         NaN   \n",
       "1  Washington Blvd & Walter Reed Dr   W00410        member  ...         NaN   \n",
       "2            Library St & Freedom Dr  W20489        casual  ...         NaN   \n",
       "3           New Jersey Ave & R St NW  W22594        member  ...         NaN   \n",
       "4      15th St & Pennsylvania Ave NW  W22874        member  ...         NaN   \n",
       "\n",
       "  Total Cases  Hospitalizations  Deaths     new_duration  new_duration(sec)  \\\n",
       "0         0.0               0.0     0.0  0 days 00:31:45             1905.0   \n",
       "1         0.0               0.0     0.0  0 days 00:12:57              777.0   \n",
       "2         0.0               0.0     0.0  0 days 00:17:27             1047.0   \n",
       "3         0.0               0.0     0.0  0 days 00:18:40             1120.0   \n",
       "4         0.0               0.0     0.0  0 days 00:19:32             1172.0   \n",
       "\n",
       "   new_duration(min)   Pandemic Hour day/night  \n",
       "0              31.75  Pre-COVID    0     night  \n",
       "1              12.95  Pre-COVID    0     night  \n",
       "2              17.45  Pre-COVID    1     night  \n",
       "3              18.67  Pre-COVID    1     night  \n",
       "4              19.53  Pre-COVID    1     night  \n",
       "\n",
       "[5 rows x 29 columns]"
      ]
     },
     "execution_count": 35,
     "metadata": {},
     "output_type": "execute_result"
    }
   ],
   "source": [
    "# before and after COVID 19 shock 2020-03-13\n",
    "# https://stackoverflow.com/questions/29370057/select-dataframe-rows-between-two-dates\n",
    "\n",
    "dfc = df[(df['date'] > '2020-03-13')]\n",
    "dfp = df[(df['date'] <= '2020-03-13')]"
   ]
  },
  {
   "cell_type": "code",
   "execution_count": 36,
   "metadata": {},
   "outputs": [
    {
     "data": {
      "text/plain": [
       "<AxesSubplot:>"
      ]
     },
     "execution_count": 36,
     "metadata": {},
     "output_type": "execute_result"
    },
    {
     "data": {
      "image/png": "[encoded data removed]",
      "text/plain": [
       "<Figure size 576x720 with 1 Axes>"
      ]
     },
     "metadata": {
      "needs_background": "light"
     },
     "output_type": "display_data"
    }
   ],
   "source": [
    "# Before Covid\n",
    "startstation = dfp['start_station_name'].value_counts()[:20]\n",
    "plt.figure(figsize=(8,10))\n",
    "sns.barplot( x=startstation.values , y=list(startstation.index), \n",
    " orient=\"h\"  )"
   ]
  },
  {
   "cell_type": "code",
   "execution_count": 37,
   "metadata": {},
   "outputs": [
    {
     "data": {
      "text/plain": [
       "<AxesSubplot:>"
      ]
     },
     "execution_count": 37,
     "metadata": {},
     "output_type": "execute_result"
    },
    {
     "data": {
      "image/png": "[encoded data removed]",
      "text/plain": [
       "<Figure size 576x720 with 1 Axes>"
      ]
     },
     "metadata": {
      "needs_background": "light"
     },
     "output_type": "display_data"
    }
   ],
   "source": [
    "# After covid\n",
    "startstation = dfc['start_station_name'].value_counts()[:20]\n",
    "plt.figure(figsize=(8,10))\n",
    "sns.barplot( x=startstation.values , y=list(startstation.index), \n",
    " orient=\"h\"  )"
   ]
  }
 ],
 "metadata": {
  "kernelspec": {
   "display_name": "Python 3",
   "language": "python",
   "name": "python3"
  },
  "language_info": {
   "codemirror_mode": {
    "name": "ipython",
    "version": 3
   },
   "file_extension": ".py",
   "mimetype": "text/x-python",
   "name": "python",
   "nbconvert_exporter": "python",
   "pygments_lexer": "ipython3",
   "version": "3.8.5"
  }
 },
 "nbformat": 4,
 "nbformat_minor": 4
}
